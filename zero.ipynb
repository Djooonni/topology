{
 "cells": [
  {
   "cell_type": "code",
   "execution_count": 1,
   "id": "d59a84d2",
   "metadata": {},
   "outputs": [
    {
     "name": "stdout",
     "output_type": "stream",
     "text": [
      "TensorFlow version: 2.0.0\n"
     ]
    }
   ],
   "source": [
    "import tensorflow as tf\n",
    "import numpy as np\n",
    "print(\"TensorFlow version:\", tf.__version__)\n",
    "\n",
    "import h5py\n",
    "import matplotlib.pyplot as plt\n",
    "%matplotlib inline\n",
    "\n",
    "from tensorflow.python.keras import backend \n"
   ]
  },
  {
   "cell_type": "code",
   "execution_count": 2,
   "id": "b5daf334",
   "metadata": {},
   "outputs": [
    {
     "name": "stdout",
     "output_type": "stream",
     "text": [
      "iters\n",
      "targets\n"
     ]
    }
   ],
   "source": [
    "f = h5py.File('../top_dataset.h5', 'r')\n",
    "for key in f.keys():\n",
    "    print(key)\n",
    "targets = f['targets']\n",
    "iters=f['iters']\n",
    "\n",
    "#data = group['targets'][()]"
   ]
  },
  {
   "cell_type": "code",
   "execution_count": 3,
   "id": "0ee21241",
   "metadata": {},
   "outputs": [],
   "source": [
    "X_np=np.float32(iters)\n",
    "y_np=np.float32(targets)\n",
    "\n",
    "\n"
   ]
  },
  {
   "cell_type": "code",
   "execution_count": 4,
   "id": "01a6c75c",
   "metadata": {},
   "outputs": [
    {
     "data": {
      "text/plain": [
       "<matplotlib.image.AxesImage at 0x7fdc6a51a890>"
      ]
     },
     "execution_count": 4,
     "metadata": {},
     "output_type": "execute_result"
    },
    {
     "data": {
      "image/png": "[encoded data removed]",
      "text/plain": [
       "<Figure size 1080x1080 with 5 Axes>"
      ]
     },
     "metadata": {
      "needs_background": "light"
     },
     "output_type": "display_data"
    }
   ],
   "source": [
    "imN=37\n",
    "\n",
    "f, axarr = plt.subplots(1,5)\n",
    "f.set_figheight(15)\n",
    "f.set_figwidth(15)\n",
    "\n",
    "axarr[0].imshow(X_np[imN,:,:,0])\n",
    "axarr[1].imshow(X_np[imN,:,:,1])\n",
    "axarr[2].imshow(X_np[imN,:,:,2])\n",
    "axarr[3].imshow(X_np[imN,:,:,3])\n",
    "axarr[4].imshow(y_np[imN])"
   ]
  },
  {
   "cell_type": "code",
   "execution_count": 5,
   "id": "24760874",
   "metadata": {},
   "outputs": [],
   "source": [
    "send_iter=5\n",
    "X_np_5=X_np[:,:,:,send_iter-1:send_iter+1]\n",
    "X_np_5[:,:,:,1]=X_np[:,:,:,send_iter-1]-X_np[:,:,:,send_iter-2]"
   ]
  },
  {
   "cell_type": "code",
   "execution_count": 6,
   "id": "40df07f3",
   "metadata": {},
   "outputs": [
    {
     "name": "stderr",
     "output_type": "stream",
     "text": [
      "2022-03-02 07:35:20.630955: I tensorflow/stream_executor/platform/default/dso_loader.cc:44] Successfully opened dynamic library libcuda.so.1\n",
      "2022-03-02 07:35:21.881796: I tensorflow/core/common_runtime/gpu/gpu_device.cc:1618] Found device 0 with properties: \n",
      "name: Tesla K20m major: 3 minor: 5 memoryClockRate(GHz): 0.7055\n",
      "pciBusID: 0000:03:00.0\n",
      "2022-03-02 07:35:21.889242: I tensorflow/stream_executor/platform/default/dso_loader.cc:44] Successfully opened dynamic library libcudart.so.10.0\n",
      "2022-03-02 07:35:22.068132: I tensorflow/stream_executor/platform/default/dso_loader.cc:44] Successfully opened dynamic library libcublas.so.10.0\n",
      "2022-03-02 07:35:22.360206: I tensorflow/stream_executor/platform/default/dso_loader.cc:44] Successfully opened dynamic library libcufft.so.10.0\n",
      "2022-03-02 07:35:22.953757: I tensorflow/stream_executor/platform/default/dso_loader.cc:44] Successfully opened dynamic library libcurand.so.10.0\n",
      "2022-03-02 07:35:23.304128: I tensorflow/stream_executor/platform/default/dso_loader.cc:44] Successfully opened dynamic library libcusolver.so.10.0\n",
      "2022-03-02 07:35:23.506608: I tensorflow/stream_executor/platform/default/dso_loader.cc:44] Successfully opened dynamic library libcusparse.so.10.0\n",
      "2022-03-02 07:35:24.088276: I tensorflow/stream_executor/platform/default/dso_loader.cc:44] Successfully opened dynamic library libcudnn.so.7\n",
      "2022-03-02 07:35:24.090268: I tensorflow/core/common_runtime/gpu/gpu_device.cc:1746] Adding visible gpu devices: 0\n",
      "2022-03-02 07:35:24.092074: I tensorflow/core/platform/cpu_feature_guard.cc:142] Your CPU supports instructions that this TensorFlow binary was not compiled to use: SSE4.1 SSE4.2 AVX AVX2 FMA\n",
      "2022-03-02 07:35:24.109051: I tensorflow/core/platform/profile_utils/cpu_utils.cc:94] CPU Frequency: 2400185000 Hz\n",
      "2022-03-02 07:35:24.112148: I tensorflow/compiler/xla/service/service.cc:168] XLA service 0x56151a0f7e30 executing computations on platform Host. Devices:\n",
      "2022-03-02 07:35:24.112184: I tensorflow/compiler/xla/service/service.cc:175]   StreamExecutor device (0): Host, Default Version\n",
      "2022-03-02 07:35:24.113737: I tensorflow/core/common_runtime/gpu/gpu_device.cc:1618] Found device 0 with properties: \n",
      "name: Tesla K20m major: 3 minor: 5 memoryClockRate(GHz): 0.7055\n",
      "pciBusID: 0000:03:00.0\n",
      "2022-03-02 07:35:24.113807: I tensorflow/stream_executor/platform/default/dso_loader.cc:44] Successfully opened dynamic library libcudart.so.10.0\n",
      "2022-03-02 07:35:24.113831: I tensorflow/stream_executor/platform/default/dso_loader.cc:44] Successfully opened dynamic library libcublas.so.10.0\n",
      "2022-03-02 07:35:24.113851: I tensorflow/stream_executor/platform/default/dso_loader.cc:44] Successfully opened dynamic library libcufft.so.10.0\n",
      "2022-03-02 07:35:24.113871: I tensorflow/stream_executor/platform/default/dso_loader.cc:44] Successfully opened dynamic library libcurand.so.10.0\n",
      "2022-03-02 07:35:24.113891: I tensorflow/stream_executor/platform/default/dso_loader.cc:44] Successfully opened dynamic library libcusolver.so.10.0\n",
      "2022-03-02 07:35:24.113911: I tensorflow/stream_executor/platform/default/dso_loader.cc:44] Successfully opened dynamic library libcusparse.so.10.0\n",
      "2022-03-02 07:35:24.113932: I tensorflow/stream_executor/platform/default/dso_loader.cc:44] Successfully opened dynamic library libcudnn.so.7\n",
      "2022-03-02 07:35:24.115444: I tensorflow/core/common_runtime/gpu/gpu_device.cc:1746] Adding visible gpu devices: 0\n",
      "2022-03-02 07:35:24.115496: I tensorflow/stream_executor/platform/default/dso_loader.cc:44] Successfully opened dynamic library libcudart.so.10.0\n",
      "2022-03-02 07:35:24.247751: I tensorflow/core/common_runtime/gpu/gpu_device.cc:1159] Device interconnect StreamExecutor with strength 1 edge matrix:\n",
      "2022-03-02 07:35:24.247784: I tensorflow/core/common_runtime/gpu/gpu_device.cc:1165]      0 \n",
      "2022-03-02 07:35:24.247795: I tensorflow/core/common_runtime/gpu/gpu_device.cc:1178] 0:   N \n",
      "2022-03-02 07:35:24.249661: I tensorflow/core/common_runtime/gpu/gpu_device.cc:1304] Created TensorFlow device (/job:localhost/replica:0/task:0/device:GPU:0 with 4373 MB memory) -> physical GPU (device: 0, name: Tesla K20m, pci bus id: 0000:03:00.0, compute capability: 3.5)\n",
      "2022-03-02 07:35:24.251919: I tensorflow/compiler/xla/service/service.cc:168] XLA service 0x56151a683c60 executing computations on platform CUDA. Devices:\n",
      "2022-03-02 07:35:24.251936: I tensorflow/compiler/xla/service/service.cc:175]   StreamExecutor device (0): Tesla K20m, Compute Capability 3.5\n"
     ]
    }
   ],
   "source": [
    "from u_net import Unet_Model\n",
    "model = Unet_Model()\n"
   ]
  },
  {
   "cell_type": "code",
   "execution_count": 12,
   "id": "86a54b15",
   "metadata": {},
   "outputs": [
    {
     "name": "stdout",
     "output_type": "stream",
     "text": [
      "Epoch 1, Loss: 0.02, MSE: 3.68, Accuracy IoU: 90.26, Test Loss: 0.02, Test MSE: 5.00Test IoU Accuracy: 90.48\n",
      "Epoch 2, Loss: 0.02, MSE: 3.64, Accuracy IoU: 90.38, Test Loss: 0.02, Test MSE: 4.92Test IoU Accuracy: 90.62\n",
      "Epoch 3, Loss: 0.02, MSE: 3.60, Accuracy IoU: 90.48, Test Loss: 0.02, Test MSE: 4.82Test IoU Accuracy: 90.80\n",
      "Epoch 4, Loss: 0.02, MSE: 3.56, Accuracy IoU: 90.59, Test Loss: 0.02, Test MSE: 4.74Test IoU Accuracy: 90.94\n",
      "Epoch 5, Loss: 0.02, MSE: 3.53, Accuracy IoU: 90.68, Test Loss: 0.02, Test MSE: 4.77Test IoU Accuracy: 90.89\n",
      "Epoch 6, Loss: 0.02, MSE: 3.49, Accuracy IoU: 90.79, Test Loss: 0.02, Test MSE: 4.62Test IoU Accuracy: 91.16\n",
      "Epoch 7, Loss: 0.02, MSE: 3.45, Accuracy IoU: 90.88, Test Loss: 0.02, Test MSE: 4.56Test IoU Accuracy: 91.28\n",
      "Epoch 8, Loss: 0.02, MSE: 3.43, Accuracy IoU: 90.96, Test Loss: 0.02, Test MSE: 4.52Test IoU Accuracy: 91.34\n",
      "Epoch 9, Loss: 0.02, MSE: 3.39, Accuracy IoU: 91.06, Test Loss: 0.02, Test MSE: 4.42Test IoU Accuracy: 91.54\n",
      "Epoch 10, Loss: 0.02, MSE: 3.36, Accuracy IoU: 91.15, Test Loss: 0.02, Test MSE: 4.39Test IoU Accuracy: 91.58\n",
      "Epoch 11, Loss: 0.02, MSE: 3.33, Accuracy IoU: 91.22, Test Loss: 0.02, Test MSE: 4.40Test IoU Accuracy: 91.58\n",
      "Epoch 12, Loss: 0.02, MSE: 3.30, Accuracy IoU: 91.31, Test Loss: 0.02, Test MSE: 4.27Test IoU Accuracy: 91.81\n",
      "Epoch 13, Loss: 0.02, MSE: 3.26, Accuracy IoU: 91.41, Test Loss: 0.02, Test MSE: 4.28Test IoU Accuracy: 91.79\n",
      "Epoch 14, Loss: 0.01, MSE: 3.24, Accuracy IoU: 91.46, Test Loss: 0.02, Test MSE: 4.14Test IoU Accuracy: 92.05\n",
      "Epoch 15, Loss: 0.01, MSE: 3.22, Accuracy IoU: 91.53, Test Loss: 0.02, Test MSE: 4.15Test IoU Accuracy: 92.03\n",
      "Epoch 16, Loss: 0.01, MSE: 3.20, Accuracy IoU: 91.58, Test Loss: 0.02, Test MSE: 4.06Test IoU Accuracy: 92.20\n",
      "Epoch 17, Loss: 0.01, MSE: 3.17, Accuracy IoU: 91.67, Test Loss: 0.02, Test MSE: 4.03Test IoU Accuracy: 92.25\n",
      "Epoch 18, Loss: 0.01, MSE: 3.14, Accuracy IoU: 91.74, Test Loss: 0.02, Test MSE: 4.04Test IoU Accuracy: 92.23\n",
      "Epoch 19, Loss: 0.01, MSE: 3.13, Accuracy IoU: 91.78, Test Loss: 0.02, Test MSE: 3.94Test IoU Accuracy: 92.41\n",
      "Epoch 20, Loss: 0.01, MSE: 3.10, Accuracy IoU: 91.84, Test Loss: 0.02, Test MSE: 3.93Test IoU Accuracy: 92.44\n",
      "Epoch 21, Loss: 0.01, MSE: 3.08, Accuracy IoU: 91.91, Test Loss: 0.02, Test MSE: 3.87Test IoU Accuracy: 92.55\n",
      "Epoch 22, Loss: 0.01, MSE: 3.05, Accuracy IoU: 91.98, Test Loss: 0.02, Test MSE: 3.83Test IoU Accuracy: 92.62\n",
      "Epoch 23, Loss: 0.01, MSE: 3.04, Accuracy IoU: 92.02, Test Loss: 0.02, Test MSE: 3.85Test IoU Accuracy: 92.58\n",
      "Epoch 24, Loss: 0.01, MSE: 3.02, Accuracy IoU: 92.06, Test Loss: 0.02, Test MSE: 3.78Test IoU Accuracy: 92.71\n",
      "Epoch 25, Loss: 0.01, MSE: 3.00, Accuracy IoU: 92.10, Test Loss: 0.02, Test MSE: 3.79Test IoU Accuracy: 92.70\n",
      "Epoch 26, Loss: 0.01, MSE: 2.99, Accuracy IoU: 92.12, Test Loss: 0.02, Test MSE: 3.81Test IoU Accuracy: 92.66\n",
      "Epoch 27, Loss: 0.01, MSE: 2.97, Accuracy IoU: 92.18, Test Loss: 0.02, Test MSE: 3.70Test IoU Accuracy: 92.87\n",
      "Epoch 28, Loss: 0.01, MSE: 2.95, Accuracy IoU: 92.24, Test Loss: 0.02, Test MSE: 3.71Test IoU Accuracy: 92.84\n",
      "Epoch 29, Loss: 0.01, MSE: 2.95, Accuracy IoU: 92.25, Test Loss: 0.02, Test MSE: 3.68Test IoU Accuracy: 92.90\n",
      "Epoch 30, Loss: 0.01, MSE: 2.93, Accuracy IoU: 92.29, Test Loss: 0.02, Test MSE: 3.70Test IoU Accuracy: 92.87\n"
     ]
    }
   ],
   "source": [
    "model.train(X_np_5, y_np,EPOCHS=30)"
   ]
  },
  {
   "cell_type": "code",
   "execution_count": null,
   "id": "6b47ff4a",
   "metadata": {},
   "outputs": [],
   "source": []
  },
  {
   "cell_type": "code",
   "execution_count": 8,
   "id": "d014309b",
   "metadata": {},
   "outputs": [],
   "source": [
    "#train_ds = tf.data.Dataset.from_tensor_slices((X_np_5, y_np)).shuffle(10000).batch(32)"
   ]
  },
  {
   "cell_type": "code",
   "execution_count": 9,
   "id": "041c3086",
   "metadata": {},
   "outputs": [],
   "source": [
    "#from u_net import Unet_Model\n",
    "#model = Unet_Model()"
   ]
  },
  {
   "cell_type": "code",
   "execution_count": 10,
   "id": "43236522",
   "metadata": {},
   "outputs": [
    {
     "name": "stdout",
     "output_type": "stream",
     "text": [
      "\n"
     ]
    }
   ],
   "source": [
    "'''\n",
    "mnist = tf.keras.datasets.mnist\n",
    "\n",
    "(x_train, y_train), (x_test, y_test) = mnist.load_data()\n",
    "x_train, x_test = x_train / 255.0, x_test / 255.0\n",
    "\n",
    "# Add a channels dimension\n",
    "x_train = x_train[..., tf.newaxis].astype(\"float32\")\n",
    "x_test = x_test[..., tf.newaxis].astype(\"float32\")\n",
    "'''\n",
    "print()"
   ]
  },
  {
   "cell_type": "code",
   "execution_count": 4,
   "id": "fab18952",
   "metadata": {},
   "outputs": [],
   "source": [
    "#x_train.shape"
   ]
  },
  {
   "cell_type": "code",
   "execution_count": null,
   "id": "49f6625e",
   "metadata": {},
   "outputs": [],
   "source": [
    "\n",
    "f, axarr = plt.subplots(1,2)\n",
    "f.set_figheight(5)\n",
    "f.set_figwidth(5)\n",
    "\n",
    "axarr[0].imshow(X_np_5[imN,:,:,0])\n",
    "axarr[1].imshow(X_np_5[imN,:,:,1])\n"
   ]
  },
  {
   "cell_type": "code",
   "execution_count": null,
   "id": "199b7b40",
   "metadata": {},
   "outputs": [],
   "source": [
    "n=5\n",
    "train_ds = tf.data.Dataset.from_tensor_slices(\n",
    "    (X_np_5, y_np)).shuffle(10000).batch(32)\n",
    "\n",
    "test_ds = tf.data.Dataset.from_tensor_slices((X_np_5, y_np)).batch(32)"
   ]
  },
  {
   "cell_type": "code",
   "execution_count": null,
   "id": "ee819cc0",
   "metadata": {},
   "outputs": [],
   "source": []
  },
  {
   "cell_type": "code",
   "execution_count": null,
   "id": "7bc930c8",
   "metadata": {},
   "outputs": [],
   "source": [
    "'''\n",
    "class Unet_Model(Model):\n",
    "    def __init__(self):\n",
    "        super(Unet_Model, self).__init__()\n",
    "        self.conv1_1 = Conv2D(16, (3,3), padding='same', activation='relu')\n",
    "        self.conv1_2 = Conv2D(16, (3,3), padding='same', activation='relu')\n",
    "        #### Level 2\n",
    "        self.pool2_1 = MaxPool2D((2, 2), padding='same') \n",
    "        self.conv2_1 = Conv2D(32, (3, 3), padding='same', activation='relu')\n",
    "        self.drop2_1 = Dropout(0.1)\n",
    "        self.conv2_2 = Conv2D(32, (3, 3), padding='same', activation='relu')\n",
    "\n",
    "        ######### Level 3\n",
    "        self.pool3_1 = MaxPool2D((2, 2), padding='same')\n",
    "        self.conv3_1 = Conv2D(64, (3, 3), padding='same', activation='relu')\n",
    "        self.conv3_2 = Conv2D(64, (3, 3), padding='same', activation='relu')\n",
    "\n",
    "        self.conv3_3 = Conv2D(64, (3, 3), padding='same', activation='relu')\n",
    "        self.conv3_4 = Conv2D(64, (3, 3), padding='same', activation='relu')\n",
    "        self.up3_1 = UpSampling2D()\n",
    "\n",
    "        #### Level 2\n",
    "        self.conv2_3 = Conv2D(32, (3, 3), padding='same', activation='relu')\n",
    "        self.drop2_2 = Dropout(0.1)\n",
    "        self.conv2_4 = Conv2D(32, (3, 3), padding='same', activation='relu')\n",
    "        self.up2_1 = UpSampling2D()\n",
    "\n",
    "        # Level 1\n",
    "        self.conv1_3 = Conv2D(16, (3, 3), padding='same', activation='relu')\n",
    "        self.conv1_4 = Conv2D(16, (3, 3), padding='same', activation='relu')\n",
    "        self.out = Conv2D(1, (3, 3), padding='same', activation='sigmoid')\n",
    "\n",
    "\n",
    "    def call(self, x):\n",
    "        print(x.shape)\n",
    "        x = self.conv1_1(x)\n",
    "        conv1_2 = self.conv1_2(x)\n",
    "\n",
    "        x = self.pool2_1(conv1_2)\n",
    "        x = self.conv2_1(x)\n",
    "        x = self.drop2_1(x)\n",
    "        x_conv2_2 = self.conv2_2(x)\n",
    "\n",
    "        x = self.pool3_1(x_conv2_2)\n",
    "        x = self.conv3_1(x)\n",
    "        x = self.conv3_2(x)\n",
    "\n",
    "        x = self.conv3_3(x)\n",
    "        x = self.conv3_4(x)\n",
    "        x = self.up3_1(x)\n",
    "\n",
    "        x = Concatenate(axis=3)([x_conv2_2, x])\n",
    "        x = self.conv2_3(x)\n",
    "        x = self.drop2_2(x)\n",
    "        x = self.conv2_4(x)\n",
    "        x = self.up2_1(x)\n",
    "        x = Concatenate(axis=3)([conv1_2, x])\n",
    "        x = self.conv1_3(x)\n",
    "        x = self.conv1_4(x)\n",
    "        x = self.out(x)\n",
    "        return x\n",
    "'''\n",
    "# Create an instance of the model\n",
    "print()"
   ]
  },
  {
   "cell_type": "code",
   "execution_count": null,
   "id": "22c1d214",
   "metadata": {},
   "outputs": [],
   "source": []
  },
  {
   "cell_type": "code",
   "execution_count": null,
   "id": "b202279a",
   "metadata": {},
   "outputs": [],
   "source": [
    "#conf_loss = tf.losses.LogCosh(output_true, output_pred, reduction=tf.losses.Reduction.MEAN)\n",
    "#vol_loss = tf.square(tf.reduce_mean(output_true - output_pred))\n",
    "#loss = conf_loss + vol_coeff * vol_loss\n",
    "\n",
    "\n",
    "#loss_object = tf.keras.losses.SparseCategoricalCrossentropy(from_logits=True) #log loss ele necese\n",
    "loss_object = tf.keras.losses.LogCosh()\n",
    "optimizer = tf.keras.optimizers.Adam()\n"
   ]
  },
  {
   "cell_type": "code",
   "execution_count": null,
   "id": "f2355d83",
   "metadata": {},
   "outputs": [],
   "source": [
    "\n"
   ]
  },
  {
   "cell_type": "code",
   "execution_count": null,
   "id": "f2576ae5",
   "metadata": {},
   "outputs": [],
   "source": []
  },
  {
   "cell_type": "code",
   "execution_count": 376,
   "id": "4a0e5915",
   "metadata": {},
   "outputs": [],
   "source": []
  },
  {
   "cell_type": "code",
   "execution_count": 377,
   "id": "88c3891b",
   "metadata": {},
   "outputs": [
    {
     "name": "stdout",
     "output_type": "stream",
     "text": [
      "Epoch 1, Loss: 0.03, MSE: 5.64, Accuracy IoU: 85.95, Test Loss: 0.03, Test MSE: 5.94Test IoU Accuracy: 88.78\n",
      "Epoch 2, Loss: 0.02, MSE: 4.22, Accuracy IoU: 88.89, Test Loss: 0.02, Test MSE: 5.67Test IoU Accuracy: 89.26\n",
      "Epoch 3, Loss: 0.02, MSE: 4.09, Accuracy IoU: 89.22, Test Loss: 0.02, Test MSE: 5.52Test IoU Accuracy: 89.54\n",
      "Epoch 4, Loss: 0.02, MSE: 4.00, Accuracy IoU: 89.45, Test Loss: 0.02, Test MSE: 5.39Test IoU Accuracy: 89.77\n",
      "Epoch 5, Loss: 0.02, MSE: 3.93, Accuracy IoU: 89.62, Test Loss: 0.02, Test MSE: 5.30Test IoU Accuracy: 89.92\n",
      "Epoch 6, Loss: 0.02, MSE: 3.88, Accuracy IoU: 89.75, Test Loss: 0.02, Test MSE: 5.22Test IoU Accuracy: 90.08\n",
      "Epoch 7, Loss: 0.02, MSE: 3.82, Accuracy IoU: 89.91, Test Loss: 0.02, Test MSE: 5.14Test IoU Accuracy: 90.23\n",
      "Epoch 8, Loss: 0.02, MSE: 3.77, Accuracy IoU: 90.04, Test Loss: 0.02, Test MSE: 5.11Test IoU Accuracy: 90.28\n",
      "Epoch 9, Loss: 0.02, MSE: 3.72, Accuracy IoU: 90.18, Test Loss: 0.02, Test MSE: 5.04Test IoU Accuracy: 90.40\n",
      "Epoch 10, Loss: 0.02, MSE: 3.68, Accuracy IoU: 90.28, Test Loss: 0.02, Test MSE: 4.92Test IoU Accuracy: 90.62\n"
     ]
    }
   ],
   "source": [
    "\n"
   ]
  },
  {
   "cell_type": "code",
   "execution_count": 17,
   "id": "b88408c0",
   "metadata": {},
   "outputs": [],
   "source": []
  },
  {
   "cell_type": "code",
   "execution_count": null,
   "id": "30a25471",
   "metadata": {},
   "outputs": [],
   "source": []
  },
  {
   "cell_type": "code",
   "execution_count": 24,
   "id": "c1aaa415",
   "metadata": {},
   "outputs": [
    {
     "data": {
      "text/plain": [
       "16"
      ]
     },
     "execution_count": 24,
     "metadata": {},
     "output_type": "execute_result"
    }
   ],
   "source": []
  },
  {
   "cell_type": "code",
   "execution_count": null,
   "id": "7c2dfb41",
   "metadata": {},
   "outputs": [],
   "source": [
    "train_ds"
   ]
  },
  {
   "cell_type": "code",
   "execution_count": null,
   "id": "4105825a",
   "metadata": {},
   "outputs": [],
   "source": [
    "tst=model(images,training=False)\n",
    "print(f'MSE: {test_accuracy(labels, tst):.2f}, ')\n",
    "print(f'IOU: {test_IoU_accuracy(labels, tst) :.2f}, ')\n",
    "\n",
    "tst=tst.numpy()\n",
    "tst=np.round(tst)\n",
    "print(tst.shape)"
   ]
  },
  {
   "cell_type": "code",
   "execution_count": null,
   "id": "669a9a22",
   "metadata": {},
   "outputs": [],
   "source": [
    "\n"
   ]
  },
  {
   "cell_type": "code",
   "execution_count": null,
   "id": "d88d3380",
   "metadata": {},
   "outputs": [],
   "source": [
    "for i in range(3):\n",
    "    f, axarr = plt.subplots(1,4)\n",
    "    f.set_figheight(15)\n",
    "    f.set_figwidth(15)\n",
    "\n",
    "    axarr[0].imshow(images[i,:,:,0])\n",
    "    axarr[1].imshow(images[i,:,:,1])\n",
    "    axarr[2].imshow(tst[i,:,:,0])\n",
    "    axarr[3].imshow(labels[i])\n"
   ]
  },
  {
   "cell_type": "code",
   "execution_count": null,
   "id": "09d468a4",
   "metadata": {},
   "outputs": [],
   "source": []
  },
  {
   "cell_type": "code",
   "execution_count": null,
   "id": "c11501da",
   "metadata": {},
   "outputs": [],
   "source": []
  },
  {
   "cell_type": "code",
   "execution_count": null,
   "id": "fccb3d5c",
   "metadata": {},
   "outputs": [],
   "source": []
  },
  {
   "cell_type": "code",
   "execution_count": 19,
   "id": "d789629c",
   "metadata": {},
   "outputs": [],
   "source": [
    "#tst[0,:,:,]"
   ]
  },
  {
   "cell_type": "code",
   "execution_count": null,
   "id": "0782da39",
   "metadata": {},
   "outputs": [],
   "source": []
  }
 ],
 "metadata": {
  "kernelspec": {
   "display_name": "Python 3 (ipykernel)",
   "language": "python",
   "name": "python3"
  },
  "language_info": {
   "codemirror_mode": {
    "name": "ipython",
    "version": 3
   },
   "file_extension": ".py",
   "mimetype": "text/x-python",
   "name": "python",
   "nbconvert_exporter": "python",
   "pygments_lexer": "ipython3",
   "version": "3.7.11"
  }
 },
 "nbformat": 4,
 "nbformat_minor": 5
}
